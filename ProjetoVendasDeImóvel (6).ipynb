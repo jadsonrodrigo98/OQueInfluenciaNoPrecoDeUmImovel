{
 "cells": [
  {
   "cell_type": "markdown",
   "metadata": {},
   "source": [
    "**Quais fatores influenciam no preço de um imóvel ?**"
   ]
  },
  {
   "cell_type": "markdown",
   "metadata": {},
   "source": [
    "**Introdução**\n",
    "\n",
    "Dizem que um dos maiores sonhos dos brasileiros é ter o seu próprio imóvel,para que se possa ter um cantinho para chamar de seu,para que deixe o imóvel conforme quiser,e também sair do aluguel . Porém,para que esse sonho seja realizado,há um preço,muitas vezes alto demais,então nesse projeto pode-se propor a responder a seguinte pergunta,quais fatores influenciam no preço de um imóvel no país ? Será que fatores como localidade,número de quartos e de banheiros,presença ou não de jardim,etc influenciam ? E se sim,o quanto influenciam ? Nesse projeto,será analisado o banco de dados \"dataZAP.csv\",que contém  informações sobre imóveis vendidos na plataforma ZAP,e será respondido com análise exploratória as seguintes perguntas  :\n",
    "\n",
    "Qual a relação do preço de imóvel com as características número de quartos,de banheiros,área utilizável ?\n",
    "\n",
    "Quais são as cidades com o maior preço médio para a compra de imóvel ? E quais são as mais baratas ?\n",
    "\n",
    "Quais são os estados com o maior preço médio para a compra do imóvel ? E quais são os mais baratos ?\n",
    " \n",
    "Existe diferença significativa no preço médio dos imóveis com jardim e os sem jardim ? Existe diferença significativa no preço dos imóveis com sauna e os sem sauna ? \n",
    "\n",
    "Primeiramente,pode-se conhecer o banco de dados \"dataZap\",observando-se as 5 primeiras linhas . "
   ]
  },
  {
   "cell_type": "code",
   "execution_count": 1,
   "metadata": {},
   "outputs": [
    {
     "data": {
      "text/html": [
       "<div>\n",
       "<style scoped>\n",
       "    .dataframe tbody tr th:only-of-type {\n",
       "        vertical-align: middle;\n",
       "    }\n",
       "\n",
       "    .dataframe tbody tr th {\n",
       "        vertical-align: top;\n",
       "    }\n",
       "\n",
       "    .dataframe thead th {\n",
       "        text-align: right;\n",
       "    }\n",
       "</style>\n",
       "<table border=\"1\" class=\"dataframe\">\n",
       "  <thead>\n",
       "    <tr style=\"text-align: right;\">\n",
       "      <th></th>\n",
       "      <th>account.licenseNumber</th>\n",
       "      <th>account.name</th>\n",
       "      <th>imvl_type</th>\n",
       "      <th>listing.acceptExchange</th>\n",
       "      <th>listing.address.city</th>\n",
       "      <th>listing.address.confidence</th>\n",
       "      <th>listing.address.country</th>\n",
       "      <th>listing.address.level</th>\n",
       "      <th>listing.address.neighborhood</th>\n",
       "      <th>listing.address.point.lat</th>\n",
       "      <th>...</th>\n",
       "      <th>listing.title</th>\n",
       "      <th>listing.totalAreas</th>\n",
       "      <th>listing.unitFloor</th>\n",
       "      <th>listing.unitSubTypes</th>\n",
       "      <th>listing.unitTypes</th>\n",
       "      <th>listing.unitsOnTheFloor</th>\n",
       "      <th>listing.updatedAt</th>\n",
       "      <th>listing.usableAreas</th>\n",
       "      <th>listing.usageTypes</th>\n",
       "      <th>type</th>\n",
       "    </tr>\n",
       "  </thead>\n",
       "  <tbody>\n",
       "    <tr>\n",
       "      <th>0</th>\n",
       "      <td>04268-J-SP</td>\n",
       "      <td>ADI Assessoria e Imóveis Ltda</td>\n",
       "      <td>apartamentos</td>\n",
       "      <td>False</td>\n",
       "      <td>São Paulo</td>\n",
       "      <td>VALID_STREET</td>\n",
       "      <td>BR</td>\n",
       "      <td>STREET</td>\n",
       "      <td>Parada Inglesa</td>\n",
       "      <td>-23.493796</td>\n",
       "      <td>...</td>\n",
       "      <td>SãO PAULO - Apartamento Padrão - Parada Inglesa</td>\n",
       "      <td>45</td>\n",
       "      <td>0</td>\n",
       "      <td>normal</td>\n",
       "      <td>APARTMENT</td>\n",
       "      <td>0</td>\n",
       "      <td>2020-07-24T05:06:08.843Z</td>\n",
       "      <td>45</td>\n",
       "      <td>RESIDENTIAL</td>\n",
       "      <td>superPremium</td>\n",
       "    </tr>\n",
       "    <tr>\n",
       "      <th>1</th>\n",
       "      <td>00254-J-SC</td>\n",
       "      <td>San Remos Imóveis</td>\n",
       "      <td>apartamentos</td>\n",
       "      <td>False</td>\n",
       "      <td>Florianópolis</td>\n",
       "      <td>VALID_STREET</td>\n",
       "      <td>BR</td>\n",
       "      <td>STREET</td>\n",
       "      <td>Agronômica</td>\n",
       "      <td>-27.576887</td>\n",
       "      <td>...</td>\n",
       "      <td>Florianópolis - Apartamento Padrão - Agronômica</td>\n",
       "      <td>140</td>\n",
       "      <td>0</td>\n",
       "      <td>normal</td>\n",
       "      <td>APARTMENT</td>\n",
       "      <td>0</td>\n",
       "      <td>2020-07-12T11:43:29.976Z</td>\n",
       "      <td>140</td>\n",
       "      <td>RESIDENTIAL</td>\n",
       "      <td>superPremium</td>\n",
       "    </tr>\n",
       "    <tr>\n",
       "      <th>2</th>\n",
       "      <td>48861-F-RJ</td>\n",
       "      <td>Família Bacellar Imobiliária</td>\n",
       "      <td>apartamentos</td>\n",
       "      <td>False</td>\n",
       "      <td>Rio de Janeiro</td>\n",
       "      <td>VALID_STREET</td>\n",
       "      <td>BR</td>\n",
       "      <td>STREET</td>\n",
       "      <td>Recreio Dos Bandeirantes</td>\n",
       "      <td>-23.018798</td>\n",
       "      <td>...</td>\n",
       "      <td>Rio de Janeiro - Apartamento Padrão - Recreio ...</td>\n",
       "      <td>100</td>\n",
       "      <td>0</td>\n",
       "      <td>normal</td>\n",
       "      <td>APARTMENT</td>\n",
       "      <td>0</td>\n",
       "      <td>2020-07-30T03:11:32.521Z</td>\n",
       "      <td>100</td>\n",
       "      <td>RESIDENTIAL</td>\n",
       "      <td>superPremium</td>\n",
       "    </tr>\n",
       "    <tr>\n",
       "      <th>3</th>\n",
       "      <td>17452-J-SP</td>\n",
       "      <td>Next Soluções Imobiliárias</td>\n",
       "      <td>apartamentos</td>\n",
       "      <td>False</td>\n",
       "      <td>Campinas</td>\n",
       "      <td>VALID_STREET</td>\n",
       "      <td>BR</td>\n",
       "      <td>STREET</td>\n",
       "      <td>Cambuí</td>\n",
       "      <td>-22.899193</td>\n",
       "      <td>...</td>\n",
       "      <td>Campinas - Apartamento Padrão - Cambuí</td>\n",
       "      <td>80</td>\n",
       "      <td>0</td>\n",
       "      <td>normal</td>\n",
       "      <td>APARTMENT</td>\n",
       "      <td>0</td>\n",
       "      <td>2020-07-16T17:15:06.708Z</td>\n",
       "      <td>80</td>\n",
       "      <td>RESIDENTIAL</td>\n",
       "      <td>premium</td>\n",
       "    </tr>\n",
       "    <tr>\n",
       "      <th>4</th>\n",
       "      <td>24344-J-SP</td>\n",
       "      <td>QUINTO ANDAR SERVICOS IMOBILIARIOS LTDA</td>\n",
       "      <td>apartamentos</td>\n",
       "      <td>False</td>\n",
       "      <td>São Paulo</td>\n",
       "      <td>VALID_STREET</td>\n",
       "      <td>BR</td>\n",
       "      <td>STREET</td>\n",
       "      <td>Ipiranga</td>\n",
       "      <td>-23.598672</td>\n",
       "      <td>...</td>\n",
       "      <td>São Paulo - Apartamento Padrão - Ipiranga</td>\n",
       "      <td>69</td>\n",
       "      <td>0</td>\n",
       "      <td>normal</td>\n",
       "      <td>APARTMENT</td>\n",
       "      <td>0</td>\n",
       "      <td>2020-07-29T04:32:26.854Z</td>\n",
       "      <td>69</td>\n",
       "      <td>RESIDENTIAL</td>\n",
       "      <td>premium</td>\n",
       "    </tr>\n",
       "  </tbody>\n",
       "</table>\n",
       "<p>5 rows × 78 columns</p>\n",
       "</div>"
      ],
      "text/plain": [
       "  account.licenseNumber                             account.name  \\\n",
       "0            04268-J-SP            ADI Assessoria e Imóveis Ltda   \n",
       "1            00254-J-SC                        San Remos Imóveis   \n",
       "2            48861-F-RJ             Família Bacellar Imobiliária   \n",
       "3            17452-J-SP               Next Soluções Imobiliárias   \n",
       "4            24344-J-SP  QUINTO ANDAR SERVICOS IMOBILIARIOS LTDA   \n",
       "\n",
       "      imvl_type  listing.acceptExchange listing.address.city  \\\n",
       "0  apartamentos                   False            São Paulo   \n",
       "1  apartamentos                   False        Florianópolis   \n",
       "2  apartamentos                   False       Rio de Janeiro   \n",
       "3  apartamentos                   False             Campinas   \n",
       "4  apartamentos                   False            São Paulo   \n",
       "\n",
       "  listing.address.confidence listing.address.country listing.address.level  \\\n",
       "0               VALID_STREET                      BR                STREET   \n",
       "1               VALID_STREET                      BR                STREET   \n",
       "2               VALID_STREET                      BR                STREET   \n",
       "3               VALID_STREET                      BR                STREET   \n",
       "4               VALID_STREET                      BR                STREET   \n",
       "\n",
       "  listing.address.neighborhood listing.address.point.lat  ...  \\\n",
       "0               Parada Inglesa                -23.493796  ...   \n",
       "1                   Agronômica                -27.576887  ...   \n",
       "2     Recreio Dos Bandeirantes                -23.018798  ...   \n",
       "3                       Cambuí                -22.899193  ...   \n",
       "4                     Ipiranga                -23.598672  ...   \n",
       "\n",
       "                                       listing.title listing.totalAreas  \\\n",
       "0    SãO PAULO - Apartamento Padrão - Parada Inglesa                 45   \n",
       "1    Florianópolis - Apartamento Padrão - Agronômica                140   \n",
       "2  Rio de Janeiro - Apartamento Padrão - Recreio ...                100   \n",
       "3             Campinas - Apartamento Padrão - Cambuí                 80   \n",
       "4          São Paulo - Apartamento Padrão - Ipiranga                 69   \n",
       "\n",
       "  listing.unitFloor listing.unitSubTypes listing.unitTypes  \\\n",
       "0                 0               normal         APARTMENT   \n",
       "1                 0               normal         APARTMENT   \n",
       "2                 0               normal         APARTMENT   \n",
       "3                 0               normal         APARTMENT   \n",
       "4                 0               normal         APARTMENT   \n",
       "\n",
       "  listing.unitsOnTheFloor         listing.updatedAt listing.usableAreas  \\\n",
       "0                       0  2020-07-24T05:06:08.843Z                  45   \n",
       "1                       0  2020-07-12T11:43:29.976Z                 140   \n",
       "2                       0  2020-07-30T03:11:32.521Z                 100   \n",
       "3                       0  2020-07-16T17:15:06.708Z                  80   \n",
       "4                       0  2020-07-29T04:32:26.854Z                  69   \n",
       "\n",
       "  listing.usageTypes          type  \n",
       "0        RESIDENTIAL  superPremium  \n",
       "1        RESIDENTIAL  superPremium  \n",
       "2        RESIDENTIAL  superPremium  \n",
       "3        RESIDENTIAL       premium  \n",
       "4        RESIDENTIAL       premium  \n",
       "\n",
       "[5 rows x 78 columns]"
      ]
     },
     "execution_count": 1,
     "metadata": {},
     "output_type": "execute_result"
    }
   ],
   "source": [
    "import pandas as pd\n",
    "import matplotlib.pyplot as plt\n",
    "dados=pd.read_csv(\"dataZAP.csv\",delimiter=\";\",low_memory=False)\n",
    "dados.head()"
   ]
  },
  {
   "cell_type": "markdown",
   "metadata": {},
   "source": [
    "Por fim,pode-se conhecer em quantas colunas e linhas o banco de dados possui com a função shape"
   ]
  },
  {
   "cell_type": "code",
   "execution_count": 2,
   "metadata": {},
   "outputs": [
    {
     "data": {
      "text/plain": [
       "(35772, 78)"
      ]
     },
     "execution_count": 2,
     "metadata": {},
     "output_type": "execute_result"
    }
   ],
   "source": [
    "dados.shape"
   ]
  },
  {
   "cell_type": "markdown",
   "metadata": {},
   "source": [
    "Com o resultado da função shape,pode-se observar que o banco de dados é composto por 35772 observações e 78 variáveis . Porém,nem todas as observações serão analisadas,pois para que se cumpra o objetivo do estudo,terei que filtrar apenas as observações que estão a venda,isso será feito selecionando os resultados da variável \"listing.pricingInfo.isSale\" que sejam \"True\" . E então pode-se observar novamente com quantas observações o banco de dados terá . "
   ]
  },
  {
   "cell_type": "code",
   "execution_count": 3,
   "metadata": {},
   "outputs": [
    {
     "data": {
      "text/plain": [
       "(6561, 78)"
      ]
     },
     "execution_count": 3,
     "metadata": {},
     "output_type": "execute_result"
    }
   ],
   "source": [
    "dadosvenda=dados[dados[\"listing.pricingInfo.isSale\"]==True]\n",
    "#Removendo linhas duplicadas \n",
    "dadosvenda=dadosvenda.drop_duplicates()\n",
    "dadosvenda.shape"
   ]
  },
  {
   "cell_type": "markdown",
   "metadata": {},
   "source": [
    "É possivel notar que ao se aplicar o filtro,e remover as linhas duplidas,o banco de dados é  composto por 6561 observações,e 78 variáveis . Porém,pode-se descartar a maioria das variáveis,selecionando apenas as que serão relevantes para responder as perguntas iniciais da análise . Em seguida,as variáveis selecionadas serão renomeadas para o português para que fique mais claro a interpretação dos resultados da análise  ."
   ]
  },
  {
   "cell_type": "code",
   "execution_count": 4,
   "metadata": {},
   "outputs": [],
   "source": [
    "dadosvenda=dadosvenda[[\"listing.pricingInfo.salePrice\",\"listing.address.city\",\"listing.address.state\",\"listing.bathrooms\",\"listing.bedrooms\",\"listing.garden\",\"listing.usableAreas\",\"listing.sauna\",\"imvl_type\",\"listing.parkingSpaces\"]]\n",
    "dadosvenda.columns=[\"PrecoDeVenda\",\"CidadeDoImovel\",\"EstadoDoImovel\",\"NumeroDeBanheiros\",\"NumeroDeQuartos\",\"Jardim\",\"AreaUtilizavel\",\"Sauna\",\"TipoDoImovel\",\"VagasDeEstacionamento\"]"
   ]
  },
  {
   "cell_type": "markdown",
   "metadata": {},
   "source": [
    "**Descrição das variáveis**: \n",
    "\n",
    "PrecoDeVenda(listing.pricingInfo.salePrice)= Preço de venda do imóvel\n",
    "\n",
    "CidadeDoImovel(listing.address.city)= Cidade em que está localizado o imóvel \n",
    "\n",
    "EstadoDoImovel(listing.address.state) = Estado onde está localizado o imóvel\n",
    "\n",
    "NumeroDeBanheiros(listing.bathrooms) = Número de banheiros no imóvel \n",
    "\n",
    "NumeroDeQuartos(listing.bedrooms) = Número de quartos no imóvel \n",
    "\n",
    "Jardim(listing.garden) = Indica se o imóvel possue jardim,nos níveis True=Possui e False=Não Possui\n",
    "\n",
    "AreaUtilizavel(listing.usableAreas)  = Área utilizável do imóvel \n",
    "\n",
    "Sauna(listing.sauna) = Indica se o imóvel possui sauna,nos níveis True=Possui e False=Não Possui \n",
    "\n",
    "TipoDoImovel(imvl_type) = Tipo do imóvel\n",
    "\n",
    "VagasDeEstacionamento(listing.parkingSpaces) = Indica o número de vagas de estacionamento   "
   ]
  },
  {
   "cell_type": "markdown",
   "metadata": {},
   "source": [
    "Será que as as variáveis estão em um tipo adequado para que se possa ser analisada,ou será que vai ser necessária alguma transformação ? Pode-se aplicar dtype para verificar "
   ]
  },
  {
   "cell_type": "code",
   "execution_count": 5,
   "metadata": {},
   "outputs": [
    {
     "data": {
      "text/plain": [
       "PrecoDeVenda             object\n",
       "CidadeDoImovel           object\n",
       "EstadoDoImovel           object\n",
       "NumeroDeBanheiros        object\n",
       "NumeroDeQuartos           int64\n",
       "Jardim                     bool\n",
       "AreaUtilizavel           object\n",
       "Sauna                      bool\n",
       "TipoDoImovel             object\n",
       "VagasDeEstacionamento    object\n",
       "dtype: object"
      ]
     },
     "execution_count": 5,
     "metadata": {},
     "output_type": "execute_result"
    }
   ],
   "source": [
    "dadosvenda.dtypes"
   ]
  },
  {
   "cell_type": "markdown",
   "metadata": {},
   "source": [
    "As variáveis PrecoDeVenda,NumeroDeBanheiros,AreaUtilizavel,VagasDeEstacionamento estão como objetos,porém para que se possa analisa-las tem-se que transformações para colunas do tipo numérico "
   ]
  },
  {
   "cell_type": "code",
   "execution_count": 6,
   "metadata": {},
   "outputs": [],
   "source": [
    "#Substituindo . por espaço para que se pudesse transformar a variável listing.pricingInfo.salePrice em um tipo numérico\n",
    "dadosvenda.iloc[0:6561,0]=dadosvenda[\"PrecoDeVenda\"].str.replace('.','')\n",
    "#Transformando a variável PrecoDeVenda em um tipo numérico\n",
    "dadosvenda.iloc[0:6561,0]=pd.to_numeric(dadosvenda[\"PrecoDeVenda\"])\n",
    "#Transformando a variavel NumeroDeBanheiros\n",
    "dadosvenda[\"NumeroDeBanheiros\"]=pd.to_numeric(dadosvenda[\"NumeroDeBanheiros\"])\n",
    "#Transformando a variável AreaUtilizavel\n",
    "dadosvenda[\"AreaUtilizavel\"]=pd.to_numeric(dadosvenda[\"AreaUtilizavel\"])"
   ]
  },
  {
   "cell_type": "markdown",
   "metadata": {},
   "source": [
    "Logo,após transformações como remover linhas duplicadas,selecionar apenas as variáveis relevantes para o estudo,filtrar observações onde o imóvel está a venda,temos agora 6561 observações e 10 variáveis . Agora pode-se analisar as 5 primeiras linhas para verificar como os dados estão ."
   ]
  },
  {
   "cell_type": "code",
   "execution_count": 7,
   "metadata": {},
   "outputs": [
    {
     "data": {
      "text/html": [
       "<div>\n",
       "<style scoped>\n",
       "    .dataframe tbody tr th:only-of-type {\n",
       "        vertical-align: middle;\n",
       "    }\n",
       "\n",
       "    .dataframe tbody tr th {\n",
       "        vertical-align: top;\n",
       "    }\n",
       "\n",
       "    .dataframe thead th {\n",
       "        text-align: right;\n",
       "    }\n",
       "</style>\n",
       "<table border=\"1\" class=\"dataframe\">\n",
       "  <thead>\n",
       "    <tr style=\"text-align: right;\">\n",
       "      <th></th>\n",
       "      <th>PrecoDeVenda</th>\n",
       "      <th>CidadeDoImovel</th>\n",
       "      <th>EstadoDoImovel</th>\n",
       "      <th>NumeroDeBanheiros</th>\n",
       "      <th>NumeroDeQuartos</th>\n",
       "      <th>Jardim</th>\n",
       "      <th>AreaUtilizavel</th>\n",
       "      <th>Sauna</th>\n",
       "      <th>TipoDoImovel</th>\n",
       "      <th>VagasDeEstacionamento</th>\n",
       "    </tr>\n",
       "  </thead>\n",
       "  <tbody>\n",
       "    <tr>\n",
       "      <th>25</th>\n",
       "      <td>449000</td>\n",
       "      <td>Santo André</td>\n",
       "      <td>São Paulo</td>\n",
       "      <td>2</td>\n",
       "      <td>3</td>\n",
       "      <td>False</td>\n",
       "      <td>117</td>\n",
       "      <td>False</td>\n",
       "      <td>apartamentos</td>\n",
       "      <td>2</td>\n",
       "    </tr>\n",
       "    <tr>\n",
       "      <th>92</th>\n",
       "      <td>600000</td>\n",
       "      <td>Americana</td>\n",
       "      <td>São Paulo</td>\n",
       "      <td>3</td>\n",
       "      <td>3</td>\n",
       "      <td>False</td>\n",
       "      <td>90</td>\n",
       "      <td>False</td>\n",
       "      <td>apartamentos</td>\n",
       "      <td>2</td>\n",
       "    </tr>\n",
       "    <tr>\n",
       "      <th>97</th>\n",
       "      <td>1680000</td>\n",
       "      <td>Jundiaí</td>\n",
       "      <td>São Paulo</td>\n",
       "      <td>4</td>\n",
       "      <td>3</td>\n",
       "      <td>False</td>\n",
       "      <td>216</td>\n",
       "      <td>True</td>\n",
       "      <td>apartamentos</td>\n",
       "      <td>3</td>\n",
       "    </tr>\n",
       "    <tr>\n",
       "      <th>98</th>\n",
       "      <td>985000</td>\n",
       "      <td>São Paulo</td>\n",
       "      <td>São Paulo</td>\n",
       "      <td>4</td>\n",
       "      <td>3</td>\n",
       "      <td>False</td>\n",
       "      <td>139</td>\n",
       "      <td>False</td>\n",
       "      <td>apartamentos</td>\n",
       "      <td>3</td>\n",
       "    </tr>\n",
       "    <tr>\n",
       "      <th>116</th>\n",
       "      <td>580000</td>\n",
       "      <td>Americana</td>\n",
       "      <td>São Paulo</td>\n",
       "      <td>3</td>\n",
       "      <td>3</td>\n",
       "      <td>False</td>\n",
       "      <td>90</td>\n",
       "      <td>False</td>\n",
       "      <td>apartamentos</td>\n",
       "      <td>2</td>\n",
       "    </tr>\n",
       "  </tbody>\n",
       "</table>\n",
       "</div>"
      ],
      "text/plain": [
       "     PrecoDeVenda CidadeDoImovel EstadoDoImovel  NumeroDeBanheiros  \\\n",
       "25         449000    Santo André      São Paulo                  2   \n",
       "92         600000      Americana      São Paulo                  3   \n",
       "97        1680000        Jundiaí      São Paulo                  4   \n",
       "98         985000      São Paulo      São Paulo                  4   \n",
       "116        580000      Americana      São Paulo                  3   \n",
       "\n",
       "     NumeroDeQuartos  Jardim  AreaUtilizavel  Sauna  TipoDoImovel  \\\n",
       "25                 3   False             117  False  apartamentos   \n",
       "92                 3   False              90  False  apartamentos   \n",
       "97                 3   False             216   True  apartamentos   \n",
       "98                 3   False             139  False  apartamentos   \n",
       "116                3   False              90  False  apartamentos   \n",
       "\n",
       "    VagasDeEstacionamento  \n",
       "25                      2  \n",
       "92                      2  \n",
       "97                      3  \n",
       "98                      3  \n",
       "116                     2  "
      ]
     },
     "execution_count": 7,
     "metadata": {},
     "output_type": "execute_result"
    }
   ],
   "source": [
    "dadosvenda.head()"
   ]
  },
  {
   "cell_type": "markdown",
   "metadata": {},
   "source": [
    "Então,para as variáveis quantitativas PrecoDeVenda,NumeroDeBanheiros,NumeroDeQuartos,AreaUtilizavel pode-se se calcular as medidas sumárias . "
   ]
  },
  {
   "cell_type": "code",
   "execution_count": 8,
   "metadata": {},
   "outputs": [
    {
     "data": {
      "text/html": [
       "<div>\n",
       "<style scoped>\n",
       "    .dataframe tbody tr th:only-of-type {\n",
       "        vertical-align: middle;\n",
       "    }\n",
       "\n",
       "    .dataframe tbody tr th {\n",
       "        vertical-align: top;\n",
       "    }\n",
       "\n",
       "    .dataframe thead th {\n",
       "        text-align: right;\n",
       "    }\n",
       "</style>\n",
       "<table border=\"1\" class=\"dataframe\">\n",
       "  <thead>\n",
       "    <tr style=\"text-align: right;\">\n",
       "      <th></th>\n",
       "      <th>PrecoDeVenda</th>\n",
       "      <th>NumeroDeBanheiros</th>\n",
       "      <th>NumeroDeQuartos</th>\n",
       "      <th>AreaUtilizavel</th>\n",
       "    </tr>\n",
       "  </thead>\n",
       "  <tbody>\n",
       "    <tr>\n",
       "      <th>count</th>\n",
       "      <td>6.561000e+03</td>\n",
       "      <td>6561.000000</td>\n",
       "      <td>6561.000000</td>\n",
       "      <td>6561.000000</td>\n",
       "    </tr>\n",
       "    <tr>\n",
       "      <th>mean</th>\n",
       "      <td>1.965790e+06</td>\n",
       "      <td>3.428593</td>\n",
       "      <td>2.985216</td>\n",
       "      <td>260.246304</td>\n",
       "    </tr>\n",
       "    <tr>\n",
       "      <th>std</th>\n",
       "      <td>2.665236e+06</td>\n",
       "      <td>2.048899</td>\n",
       "      <td>1.219104</td>\n",
       "      <td>319.407730</td>\n",
       "    </tr>\n",
       "    <tr>\n",
       "      <th>min</th>\n",
       "      <td>7.000000e+04</td>\n",
       "      <td>0.000000</td>\n",
       "      <td>0.000000</td>\n",
       "      <td>0.000000</td>\n",
       "    </tr>\n",
       "    <tr>\n",
       "      <th>25%</th>\n",
       "      <td>5.400000e+05</td>\n",
       "      <td>1.000000</td>\n",
       "      <td>2.000000</td>\n",
       "      <td>86.000000</td>\n",
       "    </tr>\n",
       "    <tr>\n",
       "      <th>50%</th>\n",
       "      <td>1.200000e+06</td>\n",
       "      <td>3.000000</td>\n",
       "      <td>3.000000</td>\n",
       "      <td>212.000000</td>\n",
       "    </tr>\n",
       "    <tr>\n",
       "      <th>75%</th>\n",
       "      <td>2.500000e+06</td>\n",
       "      <td>5.000000</td>\n",
       "      <td>4.000000</td>\n",
       "      <td>365.000000</td>\n",
       "    </tr>\n",
       "    <tr>\n",
       "      <th>max</th>\n",
       "      <td>3.950000e+07</td>\n",
       "      <td>20.000000</td>\n",
       "      <td>8.000000</td>\n",
       "      <td>15704.000000</td>\n",
       "    </tr>\n",
       "  </tbody>\n",
       "</table>\n",
       "</div>"
      ],
      "text/plain": [
       "       PrecoDeVenda  NumeroDeBanheiros  NumeroDeQuartos  AreaUtilizavel\n",
       "count  6.561000e+03        6561.000000      6561.000000     6561.000000\n",
       "mean   1.965790e+06           3.428593         2.985216      260.246304\n",
       "std    2.665236e+06           2.048899         1.219104      319.407730\n",
       "min    7.000000e+04           0.000000         0.000000        0.000000\n",
       "25%    5.400000e+05           1.000000         2.000000       86.000000\n",
       "50%    1.200000e+06           3.000000         3.000000      212.000000\n",
       "75%    2.500000e+06           5.000000         4.000000      365.000000\n",
       "max    3.950000e+07          20.000000         8.000000    15704.000000"
      ]
     },
     "execution_count": 8,
     "metadata": {},
     "output_type": "execute_result"
    }
   ],
   "source": [
    "varquantitativas=dadosvenda[[\"PrecoDeVenda\",\"NumeroDeBanheiros\",\"NumeroDeQuartos\",\"AreaUtilizavel\"]]\n",
    "varquantitativas.describe()"
   ]
  },
  {
   "cell_type": "markdown",
   "metadata": {},
   "source": [
    "Ao se analisar as medidas sumárias,pode-se chegar a algumas conclusões . 75% dos imóveis tem uma valor de venda de até 2.5 milhões de reais,porém o valor máximo de um imóvel pode-se chegar até 39 milhões de reais,o que é um forte indicio que ocorra outliers na variável PrecoDeVenda ,outro forte indício que ocorra outliers nessa variável é que a mediana é bem menor,de cerca de 1 milhão e 200 mil,enquanto que a média é de 1 milhão e 970 mil,o que indica que valores extremos tem feito com que a média aumente significamente . Na variável NumeroDeBanheiros,pode-se suspeitar de presença de outliers também,pois 75% das casas tem até 5 banheiros,porém o número banheiros é de 20 . Para que se possa conhecer a distribuição dos dados e verificar possíveis outliers,pode-se construir um boxplot . "
   ]
  },
  {
   "cell_type": "code",
   "execution_count": 9,
   "metadata": {},
   "outputs": [
    {
     "data": {
      "text/plain": [
       "Text(0.5, 1.0, 'Distruição área utilizável')"
      ]
     },
     "execution_count": 9,
     "metadata": {},
     "output_type": "execute_result"
    },
    {
     "data": {
      "image/png": "[encoded data removed]",
      "text/plain": [
       "<Figure size 864x576 with 4 Axes>"
      ]
     },
     "metadata": {
      "needs_background": "light"
     },
     "output_type": "display_data"
    }
   ],
   "source": [
    "figure,axes=plt.subplots(2,2,figsize=(12,8))\n",
    "axes[0,0].boxplot(varquantitativas[\"PrecoDeVenda\"],vert=False)\n",
    "axes[0,0].set_title(\"Distruição dos dados da variável PrecoDeVenda\")\n",
    "axes[0,1].boxplot(varquantitativas[\"NumeroDeBanheiros\"],vert=False)\n",
    "axes[0,1].set_title(\"Distruição do número de banheiros\")\n",
    "axes[1,0].boxplot(varquantitativas[\"NumeroDeQuartos\"],vert=False)\n",
    "axes[1,0].set_title(\"Distruição número de quartos\")\n",
    "axes[1,1].boxplot(varquantitativas[\"AreaUtilizavel\"],vert=False)\n",
    "axes[1,1].set_title(\"Distruição área utilizável\")"
   ]
  },
  {
   "cell_type": "markdown",
   "metadata": {},
   "source": [
    "Ao se observar os boxplots pode-se verificar que existem outliers em todas as variáveis,principalmente na variável \"PrecoDeVenda\" e \"AreaUtilizavel\",enquanto que nas variáveis \"NumeroDeQuartos\" e \"NumeroDeBanheiros\",aparentemente,tem poucos ou se encontram em determinados valores . Então calcularei o limite superior das variáveis quantitativas,verificarei quantas observações possuem outlier,e então decidirei se vou exclui-las ."
   ]
  },
  {
   "cell_type": "code",
   "execution_count": 14,
   "metadata": {},
   "outputs": [
    {
     "data": {
      "text/plain": [
       "137"
      ]
     },
     "execution_count": 14,
     "metadata": {},
     "output_type": "execute_result"
    }
   ],
   "source": [
    "iqr=2.500000e+06-5.400000e+05\n",
    "media=varquantitativas[\"PrecoDeVenda\"].mean()\n",
    "limsuppreco=2.500000e+06+iqr*1.5\n",
    "qtdoutliervenda=0\n",
    "for i in varquantitativas[\"PrecoDeVenda\"]:\n",
    "     if(i>limsuppreco):\n",
    "            qtdoutliervenda+=1\n",
    "qtdoutliervenda\n",
    "iqr=2\n",
    "media=varquantitativas[\"NumeroDeQuartos\"].mean()\n",
    "limsupquarto=4+2*1.5\n",
    "qtdoutlierquartos=0\n",
    "for i in varquantitativas[\"NumeroDeQuartos\"]:\n",
    "     if(i>limsupquarto):\n",
    "            qtdoutlierquartos+=1\n",
    "qtdoutlierquartos\n",
    "iqr=4\n",
    "media=varquantitativas[\"NumeroDeBanheiros\"].mean()\n",
    "limsupbanheiro=5+4*1.5\n",
    "qtdoutlierbanheiros=0\n",
    "for i in varquantitativas[\"NumeroDeBanheiros\"]:\n",
    "     if(i>limsupbanheiro):\n",
    "            qtdoutlierbanheiros+=1\n",
    "qtdoutlierbanheiros\n",
    "iqrarea=365-86\n",
    "media=varquantitativas[\"AreaUtilizavel\"].mean()\n",
    "d=0\n",
    "limsuparea=365+1.5*iqrarea\n",
    "for i in varquantitativas[\"AreaUtilizavel\"]:\n",
    "    if(i>limsuparea):\n",
    "        d+=1\n",
    "\n",
    "        "
   ]
  },
  {
   "cell_type": "markdown",
   "metadata": {},
   "source": [
    "A variável \"PrecoDeVenda\" possui 6.22% das observações com outlier,a variável AreaUtilizavel possui 2% observações outlier . As variáveis \"NumeroDeQuartos\" e \"NumeroDeBanheiros\" possuem,respectivamente,5 e 2 . Logo,por serem poucos,excluirei as observações outliers . "
   ]
  },
  {
   "cell_type": "code",
   "execution_count": 28,
   "metadata": {},
   "outputs": [
    {
     "data": {
      "text/plain": [
       "(6077, 4)"
      ]
     },
     "execution_count": 28,
     "metadata": {},
     "output_type": "execute_result"
    }
   ],
   "source": [
    "#varquantitativasemoutlier=varquantitativas[(varquantitativas[\"AreaUtilizavel\"]<limsuparea) & (varquantitativas[\"NumeroDeQuartos\"]<limsupquarto) & (varquantitativas[\"PrecoDeVenda\"]<limsuppreco) & (varquantitativas[\"NumeroDeBanheiros\"]<limsupbanheiro) & (varquantitativa[\"listing.usableAreas\"]<limsuparea)]\n",
    "dadosvendasemoutlier=dadosvenda[(dadosvenda[\"AreaUtilizavel\"]<limsuparea) & (dadosvenda[\"NumeroDeQuartos\"]<limsupquarto) & (dadosvenda[\"PrecoDeVenda\"]<limsuppreco) & (dadosvenda[\"NumeroDeBanheiros\"]<limsupbanheiro)]\n",
    "varquantitativasemoutlier=dadosvendasemoutlier[[\"AreaUtilizavel\",\"NumeroDeQuartos\",\"PrecoDeVenda\",\"NumeroDeBanheiros\"]]\n",
    "varquantitativassemoutlier.shape"
   ]
  },
  {
   "cell_type": "markdown",
   "metadata": {},
   "source": [
    "Portanto,o conjunto de dados filtrado é composto agora por 6007 linhas . Então,podemos calcular novamente as medidas descritivas das variáveis quantitativas . "
   ]
  },
  {
   "cell_type": "code",
   "execution_count": 25,
   "metadata": {},
   "outputs": [
    {
     "data": {
      "text/html": [
       "<div>\n",
       "<style scoped>\n",
       "    .dataframe tbody tr th:only-of-type {\n",
       "        vertical-align: middle;\n",
       "    }\n",
       "\n",
       "    .dataframe tbody tr th {\n",
       "        vertical-align: top;\n",
       "    }\n",
       "\n",
       "    .dataframe thead th {\n",
       "        text-align: right;\n",
       "    }\n",
       "</style>\n",
       "<table border=\"1\" class=\"dataframe\">\n",
       "  <thead>\n",
       "    <tr style=\"text-align: right;\">\n",
       "      <th></th>\n",
       "      <th>PrecoDeVenda</th>\n",
       "      <th>NumeroDeBanheiros</th>\n",
       "      <th>NumeroDeQuartos</th>\n",
       "      <th>AreaUtilizavel</th>\n",
       "    </tr>\n",
       "  </thead>\n",
       "  <tbody>\n",
       "    <tr>\n",
       "      <th>count</th>\n",
       "      <td>6.077000e+03</td>\n",
       "      <td>6077.000000</td>\n",
       "      <td>6077.000000</td>\n",
       "      <td>6077.000000</td>\n",
       "    </tr>\n",
       "    <tr>\n",
       "      <th>mean</th>\n",
       "      <td>1.451301e+06</td>\n",
       "      <td>3.266908</td>\n",
       "      <td>2.888761</td>\n",
       "      <td>224.935988</td>\n",
       "    </tr>\n",
       "    <tr>\n",
       "      <th>std</th>\n",
       "      <td>1.191089e+06</td>\n",
       "      <td>1.956365</td>\n",
       "      <td>1.180598</td>\n",
       "      <td>163.056731</td>\n",
       "    </tr>\n",
       "    <tr>\n",
       "      <th>min</th>\n",
       "      <td>7.000000e+04</td>\n",
       "      <td>0.000000</td>\n",
       "      <td>0.000000</td>\n",
       "      <td>0.000000</td>\n",
       "    </tr>\n",
       "    <tr>\n",
       "      <th>25%</th>\n",
       "      <td>5.000000e+05</td>\n",
       "      <td>1.000000</td>\n",
       "      <td>2.000000</td>\n",
       "      <td>78.000000</td>\n",
       "    </tr>\n",
       "    <tr>\n",
       "      <th>50%</th>\n",
       "      <td>1.050000e+06</td>\n",
       "      <td>3.000000</td>\n",
       "      <td>3.000000</td>\n",
       "      <td>198.000000</td>\n",
       "    </tr>\n",
       "    <tr>\n",
       "      <th>75%</th>\n",
       "      <td>2.100000e+06</td>\n",
       "      <td>5.000000</td>\n",
       "      <td>4.000000</td>\n",
       "      <td>340.000000</td>\n",
       "    </tr>\n",
       "    <tr>\n",
       "      <th>max</th>\n",
       "      <td>5.400000e+06</td>\n",
       "      <td>10.000000</td>\n",
       "      <td>6.000000</td>\n",
       "      <td>780.000000</td>\n",
       "    </tr>\n",
       "  </tbody>\n",
       "</table>\n",
       "</div>"
      ],
      "text/plain": [
       "       PrecoDeVenda  NumeroDeBanheiros  NumeroDeQuartos  AreaUtilizavel\n",
       "count  6.077000e+03        6077.000000      6077.000000     6077.000000\n",
       "mean   1.451301e+06           3.266908         2.888761      224.935988\n",
       "std    1.191089e+06           1.956365         1.180598      163.056731\n",
       "min    7.000000e+04           0.000000         0.000000        0.000000\n",
       "25%    5.000000e+05           1.000000         2.000000       78.000000\n",
       "50%    1.050000e+06           3.000000         3.000000      198.000000\n",
       "75%    2.100000e+06           5.000000         4.000000      340.000000\n",
       "max    5.400000e+06          10.000000         6.000000      780.000000"
      ]
     },
     "execution_count": 25,
     "metadata": {},
     "output_type": "execute_result"
    }
   ],
   "source": [
    "varquantitativassemoutlier.describe()"
   ]
  },
  {
   "cell_type": "markdown",
   "metadata": {},
   "source": [
    "Observa-se agora que na coluna \"PrecoDeVenda\" a média do imóvel se aproxima bem mais da mediana,o que é um indicio de que está ocorrendo uma melhor simetria no preço de venda,e ocorreu efeito semelhante nas variáveis \"NumeroDeBanheiros\" e \"AreaUtilizavel\" .\n",
    "Finalmente,será possivel calcular a relação das características do imóvel com o seu preço . Essa medida será calcular a partir da correlação,onde uma correlação próxima de 1 indica que quando uma variável aumenta a outra variável aumenta proporcionalmente a outra,e o efeito contrário ocorre se o coeficiente de correlação for -1,ou seja,se uma variável aumenta a outra dimuniu proporcionalmente . Porém,vale frisar aquela famosa frase na Estatística \"Correlação não implica causalidade\" . "
   ]
  },
  {
   "cell_type": "code",
   "execution_count": 26,
   "metadata": {},
   "outputs": [
    {
     "data": {
      "text/html": [
       "<div>\n",
       "<style scoped>\n",
       "    .dataframe tbody tr th:only-of-type {\n",
       "        vertical-align: middle;\n",
       "    }\n",
       "\n",
       "    .dataframe tbody tr th {\n",
       "        vertical-align: top;\n",
       "    }\n",
       "\n",
       "    .dataframe thead th {\n",
       "        text-align: right;\n",
       "    }\n",
       "</style>\n",
       "<table border=\"1\" class=\"dataframe\">\n",
       "  <thead>\n",
       "    <tr style=\"text-align: right;\">\n",
       "      <th></th>\n",
       "      <th>PrecoDeVenda</th>\n",
       "      <th>NumeroDeBanheiros</th>\n",
       "      <th>NumeroDeQuartos</th>\n",
       "      <th>AreaUtilizavel</th>\n",
       "    </tr>\n",
       "  </thead>\n",
       "  <tbody>\n",
       "    <tr>\n",
       "      <th>PrecoDeVenda</th>\n",
       "      <td>1.000000</td>\n",
       "      <td>0.657518</td>\n",
       "      <td>0.586130</td>\n",
       "      <td>0.734643</td>\n",
       "    </tr>\n",
       "    <tr>\n",
       "      <th>NumeroDeBanheiros</th>\n",
       "      <td>0.657518</td>\n",
       "      <td>1.000000</td>\n",
       "      <td>0.753079</td>\n",
       "      <td>0.774059</td>\n",
       "    </tr>\n",
       "    <tr>\n",
       "      <th>NumeroDeQuartos</th>\n",
       "      <td>0.586130</td>\n",
       "      <td>0.753079</td>\n",
       "      <td>1.000000</td>\n",
       "      <td>0.760034</td>\n",
       "    </tr>\n",
       "    <tr>\n",
       "      <th>AreaUtilizavel</th>\n",
       "      <td>0.734643</td>\n",
       "      <td>0.774059</td>\n",
       "      <td>0.760034</td>\n",
       "      <td>1.000000</td>\n",
       "    </tr>\n",
       "  </tbody>\n",
       "</table>\n",
       "</div>"
      ],
      "text/plain": [
       "                   PrecoDeVenda  NumeroDeBanheiros  NumeroDeQuartos  \\\n",
       "PrecoDeVenda           1.000000           0.657518         0.586130   \n",
       "NumeroDeBanheiros      0.657518           1.000000         0.753079   \n",
       "NumeroDeQuartos        0.586130           0.753079         1.000000   \n",
       "AreaUtilizavel         0.734643           0.774059         0.760034   \n",
       "\n",
       "                   AreaUtilizavel  \n",
       "PrecoDeVenda             0.734643  \n",
       "NumeroDeBanheiros        0.774059  \n",
       "NumeroDeQuartos          0.760034  \n",
       "AreaUtilizavel           1.000000  "
      ]
     },
     "execution_count": 26,
     "metadata": {},
     "output_type": "execute_result"
    }
   ],
   "source": [
    "varquantitativassemoutlier.corr()"
   ]
  },
  {
   "cell_type": "markdown",
   "metadata": {},
   "source": [
    "Ao se analisar os dados de correlação,pode-se observar que existe uma forte correlação(73.46%) da variável \"PrecoDeVenda\" com \"AreaUtilizavel\",o que indica que quanto maior a área utilizável do imóvel maior será o preço de venda . Além disso,existe uma correlação moderada da variável relacionada ao preço de venda com as variáveis relacionadas de número de quartos e NumeroDeBanheiros de,respectivamente, 58.61% e 65.75%,o que indica que de forma forma moderada quanto maior a quantidade de banheiros e quartos maior será o valor do imóvel . \n",
    "Quais outras características do imóvel influenciam no preço de venda do imóvel ? É possivel verificar agora como o tipo do imóvel influencia no preço . Primeiramente,será analisada como está as distribuição dos tipos do imóveis com um gráfico de pizza . "
   ]
  },
  {
   "cell_type": "code",
   "execution_count": 31,
   "metadata": {},
   "outputs": [
    {
     "data": {
      "image/png": "[encoded data removed]",
      "text/plain": [
       "<Figure size 1080x432 with 1 Axes>"
      ]
     },
     "metadata": {},
     "output_type": "display_data"
    }
   ],
   "source": [
    "count=dadosvendasemoutlier[\"TipoDoImovel\"].value_counts().values\n",
    "tipo=dadosvendasemoutlier[\"TipoDoImovel\"].value_counts().index\n",
    "plt.figure(figsize=(15,6))\n",
    "plt.pie(count,labels=list(tipo),labeldistance=1.3,textprops = {\"fontsize\": 11},shadow=True,autopct='%1.1f%%')\n",
    "plt.title(\"Tipo de imóvel\")\n",
    "plt.axis(\"equal\")\n",
    "plt.legend()\n",
    "plt.show()"
   ]
  },
  {
   "cell_type": "markdown",
   "metadata": {},
   "source": [
    "Ao se analisar o gráfico de pizza é possivel observar que os dois tipos de imóveis que mais aparecem são cobertura e casas de condominio,com uma fatia de aproximadamente 62% dos imóveis . Enquanto que studio e casas de vila são os menos frequentes,com uma fatia de apenas 3.4% dos imóveis  . Pode-se,então calcular o tipo de imóvel para cada tipo,e então ilustrar em um gráfico de barras para verificar quais os mais caros e mais baratos . "
   ]
  },
  {
   "cell_type": "code",
   "execution_count": 30,
   "metadata": {},
   "outputs": [
    {
     "data": {
      "image/png": "[encoded data removed]",
      "text/plain": [
       "<Figure size 864x576 with 1 Axes>"
      ]
     },
     "metadata": {
      "needs_background": "light"
     },
     "output_type": "display_data"
    }
   ],
   "source": [
    "dadosportipo=dadosvendasemoutlier.groupby(\"TipoDoImovel\")[\"PrecoDeVenda\"].mean().sort_values(ascending=False).reset_index()\n",
    "dadosportipo.columns=[\"Tipo De Imóvel\",\"Preço Médio\"]\n",
    "tipo=dadosportipo[\"Tipo De Imóvel\"]\n",
    "preco=dadosportipo[\"Preço Médio\"]\n",
    "plt.figure(figsize=(12,8))\n",
    "plt.bar(tipo,preco)\n",
    "plt.xlabel(\"Tipo de Imóvel\")\n",
    "plt.ylabel(\"Preço Médio\")\n",
    "plt.title(\"Preço Médio de acordo com o tipo do imóvel\")\n",
    "plt.show()"
   ]
  },
  {
   "cell_type": "markdown",
   "metadata": {},
   "source": [
    "Ao analisar o gráfico de \"Preço médio de acordo com o tipo de imóvel \" pode-se observar que casas de condominio e cobertura são os mais caros . Enquanto que quitinetes e studio tem um preço médio menor . Será que é devido a alta correlação da área utilizável com o preço do imóvel ? Possivilmente,pois conforme é conhecido,coberturas costumas serem grandes,e é de sabedoria popular que quitinetes e studio costumam ter uma área reduzida . \n",
    "Por fim,podemos verificar agora se o fator ter jardim no imóvel influencia no preço do imóvel,e se influencia,qual seria essa diferença . Pode-se assim como fiz com o tipo do imóvel construir primeiramente um gráfico de pizza para verificar quantos porcento possui e quantos não ."
   ]
  },
  {
   "cell_type": "code",
   "execution_count": 32,
   "metadata": {},
   "outputs": [
    {
     "data": {
      "image/png": "[encoded data removed]",
      "text/plain": [
       "<Figure size 576x432 with 1 Axes>"
      ]
     },
     "metadata": {},
     "output_type": "display_data"
    }
   ],
   "source": [
    "countjardim=dadosvendasemoutlier[\"Jardim\"].value_counts().values\n",
    "indexjardim=dadosvendasemoutlier[\"Jardim\"].value_counts().index\n",
    "plt.figure(figsize=(8,6))\n",
    "plt.pie(countjardim,labels=indexjardim,labeldistance=1.3,autopct='%1.1f%%')\n",
    "plt.title(\"Distribuição da porcentagem de jardim\")\n",
    "plt.show()"
   ]
  },
  {
   "cell_type": "markdown",
   "metadata": {},
   "source": [
    "Sendo \"False\" não possuir jardim,pode-se observar que 86.3% dos imóveis não possuem . Então,visualizaremos agora através de um gráfico a diferença ."
   ]
  },
  {
   "cell_type": "code",
   "execution_count": 33,
   "metadata": {},
   "outputs": [
    {
     "data": {
      "image/png": "[encoded data removed]",
      "text/plain": [
       "<Figure size 576x432 with 1 Axes>"
      ]
     },
     "metadata": {
      "needs_background": "light"
     },
     "output_type": "display_data"
    }
   ],
   "source": [
    "valormedio=dadosvendasemoutlier.groupby(\"Jardim\")[\"PrecoDeVenda\"].mean().reset_index()\n",
    "valormedio.columns=[\"Jardim\",\"Preço Médio\"]\n",
    "presencaounao=[\"False\",\"True\"]\n",
    "preco=valormedio[\"Preço Médio\"]\n",
    "plt.figure(figsize=(8,6))\n",
    "plt.bar(presencaounao,preco)\n",
    "plt.title(\"Preço Médio de acordo com a presença ou não de jardim\")\n",
    "plt.ylabel(\"Preço Médio\")\n",
    "plt.show()"
   ]
  },
  {
   "cell_type": "markdown",
   "metadata": {},
   "source": [
    "Através do gráfico de barras,verifica-se que o preço de venda média dos imóveis com jardim é consideravelmente maior do que os imóveis sem . Sendo o preço média dos que tem jardim de aproximadamente 2 milhões,e dos que não possui de 1 milhão e 361 mil,verifica-se que a diferença é bem expressiva . \n",
    "Por fim,outra característica do imóvel é a presença ou não de sauna . Primeiramente,verificarei quantos imóveis possuem sauna . "
   ]
  },
  {
   "cell_type": "code",
   "execution_count": 37,
   "metadata": {},
   "outputs": [
    {
     "data": {
      "text/plain": [
       "False    5122\n",
       "True      955\n",
       "Name: Sauna, dtype: int64"
      ]
     },
     "execution_count": 37,
     "metadata": {},
     "output_type": "execute_result"
    }
   ],
   "source": [
    "dadosvendasemoutlier[\"Sauna\"].value_counts()"
   ]
  },
  {
   "cell_type": "markdown",
   "metadata": {},
   "source": [
    "Sendo \"False\" não possuir sauna,pode-se observar que de 6077,não possuem sauna 5122 imóveis ,o que representa cerca de 84.3% dos imóveis . Então,visualizarei a diferença de preço médio entre os que possuem e os que não possuem através de um gráfico de barras . "
   ]
  },
  {
   "cell_type": "code",
   "execution_count": 48,
   "metadata": {},
   "outputs": [
    {
     "data": {
      "image/png": "[encoded data removed]",
      "text/plain": [
       "<Figure size 576x432 with 1 Axes>"
      ]
     },
     "metadata": {
      "needs_background": "light"
     },
     "output_type": "display_data"
    }
   ],
   "source": [
    "dadossauna=dadosvendasemoutlier.groupby(\"Sauna\")[\"PrecoDeVenda\"].mean().reset_index()\n",
    "presencasauna=[\"False\",\"True\"]\n",
    "precomedio=dadossauna[\"PrecoDeVenda\"]\n",
    "plt.figure(figsize=(8,6))\n",
    "plt.bar(presencasauna,precomedio)\n",
    "plt.title(\"Preço médio de acordo com a presença ou não de sauna\")\n",
    "plt.show()"
   ]
  },
  {
   "cell_type": "markdown",
   "metadata": {},
   "source": [
    "Ao se analisar o gráfico de barras,é possivel observar que os imóveis com sauna são em média bem mais caros do que aqueles que não possuem,sendo diferença de aproximadamente 30% . \n",
    "Analisamos até então características no imóvel que infleunciam no valor de venda . Por fim,analisarei o preço médio agora por localidade,primeiramente conhecendo as cidades mais baratas,as cidade mais caras,e então,saberei quais o preço médio por estado. "
   ]
  },
  {
   "cell_type": "code",
   "execution_count": 50,
   "metadata": {},
   "outputs": [
    {
     "data": {
      "text/html": [
       "<div>\n",
       "<style scoped>\n",
       "    .dataframe tbody tr th:only-of-type {\n",
       "        vertical-align: middle;\n",
       "    }\n",
       "\n",
       "    .dataframe tbody tr th {\n",
       "        vertical-align: top;\n",
       "    }\n",
       "\n",
       "    .dataframe thead th {\n",
       "        text-align: right;\n",
       "    }\n",
       "</style>\n",
       "<table border=\"1\" class=\"dataframe\">\n",
       "  <thead>\n",
       "    <tr style=\"text-align: right;\">\n",
       "      <th></th>\n",
       "      <th>Cidade</th>\n",
       "      <th>Estado</th>\n",
       "      <th>Preço Médio</th>\n",
       "    </tr>\n",
       "  </thead>\n",
       "  <tbody>\n",
       "    <tr>\n",
       "      <th>0</th>\n",
       "      <td>Portão</td>\n",
       "      <td>Rio Grande do Sul</td>\n",
       "      <td>70000.0</td>\n",
       "    </tr>\n",
       "    <tr>\n",
       "      <th>1</th>\n",
       "      <td>Sarandi</td>\n",
       "      <td>Paraná</td>\n",
       "      <td>105000.0</td>\n",
       "    </tr>\n",
       "    <tr>\n",
       "      <th>2</th>\n",
       "      <td>Fazenda Rio Grande</td>\n",
       "      <td>Paraná</td>\n",
       "      <td>120000.0</td>\n",
       "    </tr>\n",
       "    <tr>\n",
       "      <th>3</th>\n",
       "      <td>Anápolis</td>\n",
       "      <td>Goiás</td>\n",
       "      <td>130000.0</td>\n",
       "    </tr>\n",
       "    <tr>\n",
       "      <th>4</th>\n",
       "      <td>Francisco Morato</td>\n",
       "      <td>São Paulo</td>\n",
       "      <td>140000.0</td>\n",
       "    </tr>\n",
       "    <tr>\n",
       "      <th>5</th>\n",
       "      <td>Mesquita</td>\n",
       "      <td>Rio de Janeiro</td>\n",
       "      <td>150000.0</td>\n",
       "    </tr>\n",
       "    <tr>\n",
       "      <th>6</th>\n",
       "      <td>Itaguaí</td>\n",
       "      <td>Rio de Janeiro</td>\n",
       "      <td>150000.0</td>\n",
       "    </tr>\n",
       "    <tr>\n",
       "      <th>7</th>\n",
       "      <td>Serra</td>\n",
       "      <td>Espírito Santo</td>\n",
       "      <td>150000.0</td>\n",
       "    </tr>\n",
       "    <tr>\n",
       "      <th>8</th>\n",
       "      <td>Iperó</td>\n",
       "      <td>São Paulo</td>\n",
       "      <td>160000.0</td>\n",
       "    </tr>\n",
       "    <tr>\n",
       "      <th>9</th>\n",
       "      <td>Magé</td>\n",
       "      <td>Rio de Janeiro</td>\n",
       "      <td>160000.0</td>\n",
       "    </tr>\n",
       "  </tbody>\n",
       "</table>\n",
       "</div>"
      ],
      "text/plain": [
       "               Cidade             Estado  Preço Médio\n",
       "0              Portão  Rio Grande do Sul      70000.0\n",
       "1             Sarandi             Paraná     105000.0\n",
       "2  Fazenda Rio Grande             Paraná     120000.0\n",
       "3            Anápolis              Goiás     130000.0\n",
       "4    Francisco Morato          São Paulo     140000.0\n",
       "5            Mesquita     Rio de Janeiro     150000.0\n",
       "6             Itaguaí     Rio de Janeiro     150000.0\n",
       "7               Serra     Espírito Santo     150000.0\n",
       "8               Iperó          São Paulo     160000.0\n",
       "9                Magé     Rio de Janeiro     160000.0"
      ]
     },
     "execution_count": 50,
     "metadata": {},
     "output_type": "execute_result"
    }
   ],
   "source": [
    "cidadesmaisbaratas=dadosvendasemoutlier.groupby([\"CidadeDoImovel\",\"EstadoDoImovel\"])[\"PrecoDeVenda\"].mean().sort_values().reset_index().head(10)\n",
    "cidadesmaisbaratas.columns=[\"Cidade\",\"Estado\",\"Preço Médio\"]\n",
    "cidadesmaisbaratas"
   ]
  },
  {
   "cell_type": "markdown",
   "metadata": {},
   "source": [
    "Ao se observar a tabela das cidades mais baratas para se comprar um imóvel,pode-se verificar que as três cidade com o menor preço médio são Portão,Sarandi,e Fazenda Rio Grande. Além disso,outros fatores interessantes é que o top  3 das cidades mais baratas para se comprar um imóvel de acordo com o dataset  estão na região sul,e nota-se também a forte presença da região sudeste no top 10,com 6 presenças . Agora pode-se conhecer as cidades com o maior preço médio de acordo com o dataset ."
   ]
  },
  {
   "cell_type": "code",
   "execution_count": 55,
   "metadata": {},
   "outputs": [
    {
     "data": {
      "text/html": [
       "<div>\n",
       "<style scoped>\n",
       "    .dataframe tbody tr th:only-of-type {\n",
       "        vertical-align: middle;\n",
       "    }\n",
       "\n",
       "    .dataframe tbody tr th {\n",
       "        vertical-align: top;\n",
       "    }\n",
       "\n",
       "    .dataframe thead th {\n",
       "        text-align: right;\n",
       "    }\n",
       "</style>\n",
       "<table border=\"1\" class=\"dataframe\">\n",
       "  <thead>\n",
       "    <tr style=\"text-align: right;\">\n",
       "      <th></th>\n",
       "      <th>Cidade</th>\n",
       "      <th>Estado</th>\n",
       "      <th>PreçoMédio</th>\n",
       "    </tr>\n",
       "  </thead>\n",
       "  <tbody>\n",
       "    <tr>\n",
       "      <th>0</th>\n",
       "      <td>Mata de São João</td>\n",
       "      <td>Bahia</td>\n",
       "      <td>4.700000e+06</td>\n",
       "    </tr>\n",
       "    <tr>\n",
       "      <th>1</th>\n",
       "      <td>Cabo de Santo Agostinho</td>\n",
       "      <td>Pernambuco</td>\n",
       "      <td>4.250000e+06</td>\n",
       "    </tr>\n",
       "    <tr>\n",
       "      <th>2</th>\n",
       "      <td>Nova Lima</td>\n",
       "      <td>Minas Gerais</td>\n",
       "      <td>3.017141e+06</td>\n",
       "    </tr>\n",
       "    <tr>\n",
       "      <th>3</th>\n",
       "      <td>Barueri</td>\n",
       "      <td>São Paulo</td>\n",
       "      <td>2.833596e+06</td>\n",
       "    </tr>\n",
       "    <tr>\n",
       "      <th>4</th>\n",
       "      <td>Santana de Parnaíba</td>\n",
       "      <td>São Paulo</td>\n",
       "      <td>2.508814e+06</td>\n",
       "    </tr>\n",
       "    <tr>\n",
       "      <th>5</th>\n",
       "      <td>Vitória</td>\n",
       "      <td>Espírito Santo</td>\n",
       "      <td>2.368400e+06</td>\n",
       "    </tr>\n",
       "    <tr>\n",
       "      <th>6</th>\n",
       "      <td>Itatiaia</td>\n",
       "      <td>Rio de Janeiro</td>\n",
       "      <td>2.350000e+06</td>\n",
       "    </tr>\n",
       "    <tr>\n",
       "      <th>7</th>\n",
       "      <td>Campos do Jordão</td>\n",
       "      <td>São Paulo</td>\n",
       "      <td>2.330000e+06</td>\n",
       "    </tr>\n",
       "    <tr>\n",
       "      <th>8</th>\n",
       "      <td>Balneário Camboriú</td>\n",
       "      <td>Santa Catarina</td>\n",
       "      <td>2.330000e+06</td>\n",
       "    </tr>\n",
       "    <tr>\n",
       "      <th>9</th>\n",
       "      <td>Uberlândia</td>\n",
       "      <td>Minas Gerais</td>\n",
       "      <td>2.145000e+06</td>\n",
       "    </tr>\n",
       "  </tbody>\n",
       "</table>\n",
       "</div>"
      ],
      "text/plain": [
       "                    Cidade          Estado    PreçoMédio\n",
       "0         Mata de São João           Bahia  4.700000e+06\n",
       "1  Cabo de Santo Agostinho      Pernambuco  4.250000e+06\n",
       "2                Nova Lima    Minas Gerais  3.017141e+06\n",
       "3                  Barueri       São Paulo  2.833596e+06\n",
       "4      Santana de Parnaíba       São Paulo  2.508814e+06\n",
       "5                  Vitória  Espírito Santo  2.368400e+06\n",
       "6                 Itatiaia  Rio de Janeiro  2.350000e+06\n",
       "7         Campos do Jordão       São Paulo  2.330000e+06\n",
       "8       Balneário Camboriú  Santa Catarina  2.330000e+06\n",
       "9               Uberlândia    Minas Gerais  2.145000e+06"
      ]
     },
     "execution_count": 55,
     "metadata": {},
     "output_type": "execute_result"
    }
   ],
   "source": [
    "cidadesmaiscara=dadosvendasemoutlier.groupby([\"CidadeDoImovel\",\"EstadoDoImovel\"])[\"PrecoDeVenda\"].mean().sort_values(ascending=False).reset_index().head(10)\n",
    "cidadesmaiscara.columns=[\"Cidade\",\"Estado\",\"PreçoMédio\"]\n",
    "cidadesmaiscara"
   ]
  },
  {
   "cell_type": "markdown",
   "metadata": {},
   "source": [
    "Ao se observar a tabela das cidades com maior preço médio,pode-se observar que as cidades com maior preço médio são Mata de São João,Cabo de Santo Agostinho,e Nova Lima . Além disso,nota-se que o estado de São Paulo possui 3 presenças no top 10,com as cidades de Barueri,Santana de Parnaiba,e Campos de Jordão . Pode-se observar a forte presença de estados do Sudeste,com 7 presenças no total no top 10 . Estranhamente,a cidade de Mata de São João é a cidade mais cara para se comprar um imóvel d acordo com o dataset,pode-se observar então o que faz com que Mata de Mata de  João João seja a com maior preço médio filtrando as observações dessa cidade  . Porém,é possível observar a presença de cidades bastante conhecidas,tais como,Barueri,Vitória,Campos do Jordão,Balneário Camboriú,e Uberlândia . "
   ]
  },
  {
   "cell_type": "code",
   "execution_count": 57,
   "metadata": {},
   "outputs": [
    {
     "data": {
      "text/html": [
       "<div>\n",
       "<style scoped>\n",
       "    .dataframe tbody tr th:only-of-type {\n",
       "        vertical-align: middle;\n",
       "    }\n",
       "\n",
       "    .dataframe tbody tr th {\n",
       "        vertical-align: top;\n",
       "    }\n",
       "\n",
       "    .dataframe thead th {\n",
       "        text-align: right;\n",
       "    }\n",
       "</style>\n",
       "<table border=\"1\" class=\"dataframe\">\n",
       "  <thead>\n",
       "    <tr style=\"text-align: right;\">\n",
       "      <th></th>\n",
       "      <th>PrecoDeVenda</th>\n",
       "      <th>CidadeDoImovel</th>\n",
       "      <th>EstadoDoImovel</th>\n",
       "      <th>NumeroDeBanheiros</th>\n",
       "      <th>NumeroDeQuartos</th>\n",
       "      <th>Jardim</th>\n",
       "      <th>AreaUtilizavel</th>\n",
       "      <th>Sauna</th>\n",
       "      <th>TipoDoImovel</th>\n",
       "      <th>VagasDeEstacionamento</th>\n",
       "    </tr>\n",
       "  </thead>\n",
       "  <tbody>\n",
       "    <tr>\n",
       "      <th>31808</th>\n",
       "      <td>4700000</td>\n",
       "      <td>Mata de São João</td>\n",
       "      <td>Bahia</td>\n",
       "      <td>7</td>\n",
       "      <td>6</td>\n",
       "      <td>False</td>\n",
       "      <td>397</td>\n",
       "      <td>False</td>\n",
       "      <td>casas-de-condominio</td>\n",
       "      <td>4</td>\n",
       "    </tr>\n",
       "  </tbody>\n",
       "</table>\n",
       "</div>"
      ],
      "text/plain": [
       "       PrecoDeVenda    CidadeDoImovel EstadoDoImovel  NumeroDeBanheiros  \\\n",
       "31808       4700000  Mata de São João          Bahia                  7   \n",
       "\n",
       "       NumeroDeQuartos  Jardim  AreaUtilizavel  Sauna         TipoDoImovel  \\\n",
       "31808                6   False             397  False  casas-de-condominio   \n",
       "\n",
       "      VagasDeEstacionamento  \n",
       "31808                     4  "
      ]
     },
     "execution_count": 57,
     "metadata": {},
     "output_type": "execute_result"
    }
   ],
   "source": [
    "dadosvendasemoutlier[dadosvendasemoutlier[\"CidadeDoImovel\"]==\"Mata de São João\"]"
   ]
  },
  {
   "cell_type": "markdown",
   "metadata": {},
   "source": [
    "Ao se analisar os dados da cidade de Mata de São João,é possivel observar que existe apenas uma observação,ou seja,a amostra  não é tão significativa sobre o preço médio de venda nesta cidade,logo não é possível tirar uma conclusão com apenas uma amostra  . Outro fator que faz com que seja a cidade com maior preço médio,é que o único imóvel a venda possui número de quartos e de quartos significativo,e área utilizável é bem alta,de 397 m2,o que conforme vimos tem uma correlação forte positiva com o preço do imóvel . "
   ]
  },
  {
   "cell_type": "code",
   "execution_count": null,
   "metadata": {},
   "outputs": [],
   "source": [
    "Então,verificaremos agora o preço médio de venda dos imóveis de acordo com o estado em que estão localizados . "
   ]
  },
  {
   "cell_type": "code",
   "execution_count": 61,
   "metadata": {},
   "outputs": [
    {
     "data": {
      "image/png": "[encoded data removed]",
      "text/plain": [
       "<Figure size 2000x1000 with 1 Axes>"
      ]
     },
     "metadata": {
      "needs_background": "light"
     },
     "output_type": "display_data"
    }
   ],
   "source": [
    "precomedioporestado=dadosvendasemoutlier.groupby(\"EstadoDoImovel\")[\"PrecoDeVenda\"].mean().sort_values(ascending=False).reset_index()\n",
    "estado=precomedioporestado[\"EstadoDoImovel\"]\n",
    "precomedio=precomedioporestado[\"PrecoDeVenda\"]\n",
    "plt.figure(figsize=(40,20),dpi=50)\n",
    "plt.bar(estado,precomedio)\n",
    "plt.xticks(estado)\n",
    "plt.xlabel(\"Estado\")\n",
    "plt.ylabel(\"PreçoMédio\")\n",
    "plt.title(\"Preço Médio de acordo com o Estado\")\n",
    "plt.show()"
   ]
  },
  {
   "cell_type": "markdown",
   "metadata": {},
   "source": [
    "Ao se analisar o gráfico \"Preço Médio de acordo com o estadoo\",pode-se notar que os estados com maior preço médio de venda é São Paulo,Amazonas,e Mato Grosso do Sul . Enquanto que Maranhão,Rio Grande do Norte,Distrito federal tem um preço médio menor ."
   ]
  },
  {
   "cell_type": "markdown",
   "metadata": {},
   "source": [
    "**Conclusão :**\n",
    "\n",
    "Portanto,nesse estudo,o objetivo foi tentar responder a pergunta \"Quais fatores influenciam no preço de venda de um imóvel ? \" . Através de análise estatistica,foi possivel observar que a área utilizável tem uma relação forte com o preço do imóvel,onde quanto maior a ela for maior será o preço . E também,existe uma certa relação do preço com o número de quartos e número de banheiros,onde de maneira moderada,o aumento delas pode influenciar no aumento do preço . Pode-se observar também que outras características do imóvel,tais como,presença de jardim e/ou de sauna também influenciam no aumento do preço . Em termos de localidade,não foi possível tirar uma conclusão muito interessante sobre o preço em relação a cidade ,pois a cidade com maior preço tem apenas uma amostra . Já em relação aos estados ,foi possivel observar que o estado com preço médio maior foi o estado de São Paulo,enquanto que o estado com preço médio menor foi Maranhão . "
   ]
  }
 ],
 "metadata": {
  "kernelspec": {
   "display_name": "Python 3",
   "language": "python",
   "name": "python3"
  },
  "language_info": {
   "codemirror_mode": {
    "name": "ipython",
    "version": 3
   },
   "file_extension": ".py",
   "mimetype": "text/x-python",
   "name": "python",
   "nbconvert_exporter": "python",
   "pygments_lexer": "ipython3",
   "version": "3.7.6"
  }
 },
 "nbformat": 4,
 "nbformat_minor": 4
}
